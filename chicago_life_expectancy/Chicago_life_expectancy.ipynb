{
 "cells": [
  {
   "cell_type": "markdown",
   "metadata": {},
   "source": [
    "As a microbiologist I was first introduced into ‘big data’ when I was analyzing some RNA-Seq data that had already been cleaned, processed, and formatted for the researcher to look over. For those of you unfamiliar of the technique, RNA-Seq allows researchers to investigate the total cellular content of RNAs and give researchers an insight into interactions that are occurring between various genes. From the data obtained, I was directed in the proper direction to continue pushing the project that was assigned to me. I immediately became intrigued with understanding how data collected could be used to answer questions. To start off, I decided to begin with some simple data visualization.\n",
    "\n",
    "Using Chicago’s public life expectancy by community I decided to answer a simple question.\n",
    "* How has Chicago’s life expectancy changed over time?\n",
    "\n",
    "I accomplished this by:\n",
    "* Cleaning, and analyzing public life expectancy data taken from Chicago’s open data platform.\n",
    "* Visualized life expectancy by community by plotting their geographical location."
   ]
  },
  {
   "cell_type": "code",
   "execution_count": 1,
   "metadata": {},
   "outputs": [],
   "source": [
    "#import necessary libraries\n",
    "import sodapy\n",
    "import pandas as pd\n",
    "import geopandas\n",
    "import matplotlib.pyplot as plt\n",
    "import matplotlib.gridspec as gridspec\n",
    "import matplotlib as mpl"
   ]
  },
  {
   "cell_type": "markdown",
   "metadata": {},
   "source": [
    "I obtained the Life Expectancy by community area data-set by calling the [Chicago Data Portal API](https://data.cityofchicago.org/Health-Human-Services/Public-Health-Statistics-Life-Expectancy-By-Commun/qjr3-bm53) followed by some cleaning:"
   ]
  },
  {
   "cell_type": "code",
   "execution_count": 6,
   "metadata": {},
   "outputs": [
    {
     "name": "stderr",
     "output_type": "stream",
     "text": [
      "WARNING:root:Requests made without an app_token will be subject to strict throttling limits.\n"
     ]
    }
   ],
   "source": [
    "# Unauthenticated client only works with public data sets. Note 'None'\n",
    "# in place of application token, and no username or password:\n",
    "#converted to Python list of dictionaries by sodapy.\n",
    "\n",
    "def get_data():\n",
    "    client = sodapy.Socrata(\"data.cityofchicago.org\", None)\n",
    "    results = client.get(\"qjr3-bm53\", limit=2000)\n",
    "    return results\n",
    "\n",
    "data = get_data()"
   ]
  },
  {
   "cell_type": "code",
   "execution_count": 9,
   "metadata": {},
   "outputs": [
    {
     "data": {
      "text/plain": [
       "list"
      ]
     },
     "execution_count": 9,
     "metadata": {},
     "output_type": "execute_result"
    }
   ],
   "source": [
    "#checking the structure of the data\n",
    "type(data)"
   ]
  },
  {
   "cell_type": "code",
   "execution_count": 10,
   "metadata": {},
   "outputs": [],
   "source": [
    "#convert data to pandas data frame\n",
    "results_df = pd.DataFrame(data)"
   ]
  },
  {
   "cell_type": "code",
   "execution_count": 11,
   "metadata": {},
   "outputs": [
    {
     "data": {
      "text/plain": [
       "True"
      ]
     },
     "execution_count": 11,
     "metadata": {},
     "output_type": "execute_result"
    }
   ],
   "source": [
    "#check for any null values in the whole dataframe\n",
    "results_df.isnull().values.any()"
   ]
  },
  {
   "cell_type": "code",
   "execution_count": 12,
   "metadata": {},
   "outputs": [
    {
     "data": {
      "text/html": [
       "<div>\n",
       "<style scoped>\n",
       "    .dataframe tbody tr th:only-of-type {\n",
       "        vertical-align: middle;\n",
       "    }\n",
       "\n",
       "    .dataframe tbody tr th {\n",
       "        vertical-align: top;\n",
       "    }\n",
       "\n",
       "    .dataframe thead th {\n",
       "        text-align: right;\n",
       "    }\n",
       "</style>\n",
       "<table border=\"1\" class=\"dataframe\">\n",
       "  <thead>\n",
       "    <tr style=\"text-align: right;\">\n",
       "      <th></th>\n",
       "      <th>ca</th>\n",
       "      <th>community_area</th>\n",
       "      <th>_1990_life_expectancy</th>\n",
       "      <th>_1990_lower_95_ci</th>\n",
       "      <th>_1990_upper_95_ci</th>\n",
       "      <th>_2000_life_expectancy</th>\n",
       "      <th>_2000_lower_95_ci</th>\n",
       "      <th>_2000_upper_95_ci</th>\n",
       "      <th>_2010_life_expectancy</th>\n",
       "      <th>_2010_lower_95_ci</th>\n",
       "      <th>_2010_upper_95_ci</th>\n",
       "    </tr>\n",
       "  </thead>\n",
       "  <tbody>\n",
       "    <tr>\n",
       "      <th>0</th>\n",
       "      <td>1</td>\n",
       "      <td>Rogers Park</td>\n",
       "      <td>70.9</td>\n",
       "      <td>69.9</td>\n",
       "      <td>71.9</td>\n",
       "      <td>73.1</td>\n",
       "      <td>72.2</td>\n",
       "      <td>74.1</td>\n",
       "      <td>77.3</td>\n",
       "      <td>76.3</td>\n",
       "      <td>78.2</td>\n",
       "    </tr>\n",
       "    <tr>\n",
       "      <th>1</th>\n",
       "      <td>2</td>\n",
       "      <td>West Ridge</td>\n",
       "      <td>76.9</td>\n",
       "      <td>76.1</td>\n",
       "      <td>77.8</td>\n",
       "      <td>78.1</td>\n",
       "      <td>77.3</td>\n",
       "      <td>78.8</td>\n",
       "      <td>80.3</td>\n",
       "      <td>79.5</td>\n",
       "      <td>81.1</td>\n",
       "    </tr>\n",
       "    <tr>\n",
       "      <th>2</th>\n",
       "      <td>3</td>\n",
       "      <td>Uptown</td>\n",
       "      <td>64.0</td>\n",
       "      <td>63.1</td>\n",
       "      <td>64.9</td>\n",
       "      <td>71.7</td>\n",
       "      <td>70.8</td>\n",
       "      <td>72.7</td>\n",
       "      <td>76.0</td>\n",
       "      <td>75.1</td>\n",
       "      <td>76.9</td>\n",
       "    </tr>\n",
       "    <tr>\n",
       "      <th>3</th>\n",
       "      <td>4</td>\n",
       "      <td>Lincoln Square</td>\n",
       "      <td>74.2</td>\n",
       "      <td>73.1</td>\n",
       "      <td>75.4</td>\n",
       "      <td>76.8</td>\n",
       "      <td>75.8</td>\n",
       "      <td>77.8</td>\n",
       "      <td>80.5</td>\n",
       "      <td>79.3</td>\n",
       "      <td>81.6</td>\n",
       "    </tr>\n",
       "    <tr>\n",
       "      <th>4</th>\n",
       "      <td>5</td>\n",
       "      <td>North Center</td>\n",
       "      <td>73.4</td>\n",
       "      <td>72.1</td>\n",
       "      <td>74.7</td>\n",
       "      <td>77.9</td>\n",
       "      <td>76.6</td>\n",
       "      <td>79.1</td>\n",
       "      <td>81.5</td>\n",
       "      <td>80.1</td>\n",
       "      <td>82.8</td>\n",
       "    </tr>\n",
       "    <tr>\n",
       "      <th>...</th>\n",
       "      <td>...</td>\n",
       "      <td>...</td>\n",
       "      <td>...</td>\n",
       "      <td>...</td>\n",
       "      <td>...</td>\n",
       "      <td>...</td>\n",
       "      <td>...</td>\n",
       "      <td>...</td>\n",
       "      <td>...</td>\n",
       "      <td>...</td>\n",
       "      <td>...</td>\n",
       "    </tr>\n",
       "    <tr>\n",
       "      <th>72</th>\n",
       "      <td>73</td>\n",
       "      <td>Washington Heights</td>\n",
       "      <td>68.7</td>\n",
       "      <td>67.1</td>\n",
       "      <td>70.2</td>\n",
       "      <td>70.8</td>\n",
       "      <td>69.4</td>\n",
       "      <td>72.2</td>\n",
       "      <td>74.9</td>\n",
       "      <td>73.3</td>\n",
       "      <td>76.4</td>\n",
       "    </tr>\n",
       "    <tr>\n",
       "      <th>73</th>\n",
       "      <td>74</td>\n",
       "      <td>Mount Greenwood</td>\n",
       "      <td>75.7</td>\n",
       "      <td>74.4</td>\n",
       "      <td>77.1</td>\n",
       "      <td>76.0</td>\n",
       "      <td>74.4</td>\n",
       "      <td>77.5</td>\n",
       "      <td>79.6</td>\n",
       "      <td>78.1</td>\n",
       "      <td>81.0</td>\n",
       "    </tr>\n",
       "    <tr>\n",
       "      <th>74</th>\n",
       "      <td>75</td>\n",
       "      <td>Morgan Park</td>\n",
       "      <td>72.0</td>\n",
       "      <td>70.5</td>\n",
       "      <td>73.4</td>\n",
       "      <td>72.7</td>\n",
       "      <td>71.3</td>\n",
       "      <td>74.2</td>\n",
       "      <td>75.3</td>\n",
       "      <td>73.7</td>\n",
       "      <td>76.9</td>\n",
       "    </tr>\n",
       "    <tr>\n",
       "      <th>75</th>\n",
       "      <td>76</td>\n",
       "      <td>O'Hare</td>\n",
       "      <td>78.8</td>\n",
       "      <td>76.8</td>\n",
       "      <td>80.9</td>\n",
       "      <td>80.4</td>\n",
       "      <td>78.4</td>\n",
       "      <td>82.4</td>\n",
       "      <td>82.2</td>\n",
       "      <td>80.3</td>\n",
       "      <td>84.0</td>\n",
       "    </tr>\n",
       "    <tr>\n",
       "      <th>76</th>\n",
       "      <td>77</td>\n",
       "      <td>Edgewater</td>\n",
       "      <td>78.0</td>\n",
       "      <td>76.9</td>\n",
       "      <td>79.1</td>\n",
       "      <td>76.5</td>\n",
       "      <td>75.6</td>\n",
       "      <td>77.3</td>\n",
       "      <td>79.8</td>\n",
       "      <td>78.8</td>\n",
       "      <td>80.7</td>\n",
       "    </tr>\n",
       "  </tbody>\n",
       "</table>\n",
       "<p>77 rows × 11 columns</p>\n",
       "</div>"
      ],
      "text/plain": [
       "    ca      community_area _1990_life_expectancy _1990_lower_95_ci  \\\n",
       "0    1         Rogers Park                  70.9              69.9   \n",
       "1    2          West Ridge                  76.9              76.1   \n",
       "2    3              Uptown                  64.0              63.1   \n",
       "3    4      Lincoln Square                  74.2              73.1   \n",
       "4    5        North Center                  73.4              72.1   \n",
       "..  ..                 ...                   ...               ...   \n",
       "72  73  Washington Heights                  68.7              67.1   \n",
       "73  74     Mount Greenwood                  75.7              74.4   \n",
       "74  75         Morgan Park                  72.0              70.5   \n",
       "75  76              O'Hare                  78.8              76.8   \n",
       "76  77           Edgewater                  78.0              76.9   \n",
       "\n",
       "   _1990_upper_95_ci _2000_life_expectancy _2000_lower_95_ci  \\\n",
       "0               71.9                  73.1              72.2   \n",
       "1               77.8                  78.1              77.3   \n",
       "2               64.9                  71.7              70.8   \n",
       "3               75.4                  76.8              75.8   \n",
       "4               74.7                  77.9              76.6   \n",
       "..               ...                   ...               ...   \n",
       "72              70.2                  70.8              69.4   \n",
       "73              77.1                  76.0              74.4   \n",
       "74              73.4                  72.7              71.3   \n",
       "75              80.9                  80.4              78.4   \n",
       "76              79.1                  76.5              75.6   \n",
       "\n",
       "   _2000_upper_95_ci _2010_life_expectancy _2010_lower_95_ci _2010_upper_95_ci  \n",
       "0               74.1                  77.3              76.3              78.2  \n",
       "1               78.8                  80.3              79.5              81.1  \n",
       "2               72.7                  76.0              75.1              76.9  \n",
       "3               77.8                  80.5              79.3              81.6  \n",
       "4               79.1                  81.5              80.1              82.8  \n",
       "..               ...                   ...               ...               ...  \n",
       "72              72.2                  74.9              73.3              76.4  \n",
       "73              77.5                  79.6              78.1              81.0  \n",
       "74              74.2                  75.3              73.7              76.9  \n",
       "75              82.4                  82.2              80.3              84.0  \n",
       "76              77.3                  79.8              78.8              80.7  \n",
       "\n",
       "[77 rows x 11 columns]"
      ]
     },
     "execution_count": 12,
     "metadata": {},
     "output_type": "execute_result"
    }
   ],
   "source": [
    "#drop any null values\n",
    "results_df.dropna()"
   ]
  },
  {
   "cell_type": "code",
   "execution_count": 13,
   "metadata": {},
   "outputs": [],
   "source": [
    "#reading in data for community areas to plot geographically\n",
    "df = geopandas.read_file('geo_export_6b384d2c-6f53-4951-afa4-d7e6fd8fc85f.shp')\n",
    "#ax = df.plot(figsize = (10, 10), alpha =0.5, edgecolor = 'k')\n",
    "df['community'] = df['community'].str.lower()\n",
    "df['community'] = df['community'].str.replace(r\"[\\\"\\'\\ \\,]\", '')\n",
    "df['community'] = df['community'].astype(str)"
   ]
  },
  {
   "cell_type": "code",
   "execution_count": 14,
   "metadata": {},
   "outputs": [],
   "source": [
    "#convert numerical data to floats / make all strings lowercase \n",
    "results_df['community_area'] = results_df['community_area'].str.lower()\n",
    "results_df['community_area'] = results_df['community_area'].str.replace(r\"[\\\"\\'\\ \\,]\", '')\n",
    "results_df['_1990_life_expectancy'] = pd.to_numeric(results_df['_1990_life_expectancy'])\n",
    "results_df['_1990_lower_95_ci'] = pd.to_numeric(results_df['_1990_lower_95_ci'])\n",
    "results_df['_1990_upper_95_ci'] = pd.to_numeric(results_df['_1990_upper_95_ci'])\n",
    "results_df['_2000_life_expectancy'] = pd.to_numeric(results_df['_2000_life_expectancy'])\n",
    "results_df['_2000_lower_95_ci'] = pd.to_numeric(results_df['_2000_lower_95_ci'])\n",
    "results_df['_2000_upper_95_ci'] = pd.to_numeric(results_df['_2000_upper_95_ci'])\n",
    "results_df['_2010_life_expectancy'] = pd.to_numeric(results_df['_2010_life_expectancy'])\n",
    "results_df['_2010_lower_95_ci'] = pd.to_numeric(results_df['_2010_lower_95_ci'])\n",
    "results_df['_2010_upper_95_ci'] = pd.to_numeric(results_df['_2010_upper_95_ci'])"
   ]
  },
  {
   "cell_type": "code",
   "execution_count": 15,
   "metadata": {},
   "outputs": [],
   "source": [
    "#renaming columns for simplicity\n",
    "results_df = results_df.rename(columns = {'_1990_life_expectancy': '1990', '_2000_life_expectancy' : '2000',\n",
    "                             '_2010_life_expectancy': '2010'})"
   ]
  },
  {
   "cell_type": "code",
   "execution_count": 16,
   "metadata": {},
   "outputs": [],
   "source": [
    "#joining CRS coordinates with data\n",
    "merged = df.join(results_df)"
   ]
  },
  {
   "cell_type": "code",
   "execution_count": 18,
   "metadata": {},
   "outputs": [
    {
     "data": {
      "image/png": "[encoded data removed]",
      "text/plain": [
       "<Figure size 1080x1440 with 4 Axes>"
      ]
     },
     "metadata": {
      "needs_background": "light"
     },
     "output_type": "display_data"
    }
   ],
   "source": [
    "fig, (p1, p2, p3) = plt.subplots(nrows = 1, ncols = 3, figsize = (15, 20))\n",
    "gs1 = gridspec.GridSpec(15,25)\n",
    "gs1.update(wspace = 0.05)\n",
    "\n",
    "# set the min and max range for the choropleth map\n",
    "vmin, vmax = 50, 85\n",
    "\n",
    "#each invidiual chloropeth map using column as argument\n",
    "p1 = merged.plot(column = '1990', vmin = vmin, ax = p1, vmax = vmax, norm = plt.Normalize(vmin = vmin,vmax = vmax))\n",
    "p2 = merged.plot(column = '2000', vmin = vmin, ax = p2,vmax = vmax, norm = plt.Normalize(vmin = vmin,vmax = vmax))\n",
    "p3 = merged.plot(column = '2010', vmin = vmin, ax = p3,vmax = vmax, norm = plt.Normalize(vmin = vmin,vmax = vmax))\n",
    "\n",
    "#setting title/removing axis of each individual map\n",
    "p1.set_title('1990')\n",
    "p2.set_title('2000')\n",
    "p3.set_title('2010')\n",
    "p1.axis('off')\n",
    "p2.axis('off')\n",
    "p3.axis('off')\n",
    "\n",
    "#obtaining characteristic of one plot to add legend\n",
    "back = p3.get_figure()\n",
    "#trial and error to get the legend in place [l, b, w, h]\n",
    "#l:left, b:bottom, w:width, h:height; in normalized unit (0-1)\n",
    "#'cbax' is just a blank axes, with un needed labels on x and y axes.\n",
    "cbax = back.add_axes([0.92, 0.4, 0.03, 0.2])\n",
    "cbax.set_title('life expectancy')\n",
    "\n",
    "\n",
    "#colormap that is being normalized to be shared amongst all three\n",
    "sm = plt.cm.ScalarMappable(norm = plt.Normalize(vmin = vmin, vmax = vmax))\n",
    "sm._A = []\n",
    "back.colorbar(sm, cax = cbax, format = '%d')\n",
    "\n",
    "plt.savefig('filename.png', dpi=400)"
   ]
  }
 ],
 "metadata": {
  "kernelspec": {
   "display_name": "Python 3",
   "language": "python",
   "name": "python3"
  },
  "language_info": {
   "codemirror_mode": {
    "name": "ipython",
    "version": 3
   },
   "file_extension": ".py",
   "mimetype": "text/x-python",
   "name": "python",
   "nbconvert_exporter": "python",
   "pygments_lexer": "ipython3",
   "version": "3.7.4"
  }
 },
 "nbformat": 4,
 "nbformat_minor": 2
}
